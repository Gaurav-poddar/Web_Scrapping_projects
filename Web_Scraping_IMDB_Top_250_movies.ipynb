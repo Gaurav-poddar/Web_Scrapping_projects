{
  "nbformat": 4,
  "nbformat_minor": 0,
  "metadata": {
    "colab": {
      "provenance": [],
      "authorship_tag": "ABX9TyOvWSt01GVhIlKDBhA8lJSw",
      "include_colab_link": true
    },
    "kernelspec": {
      "name": "python3",
      "display_name": "Python 3"
    },
    "language_info": {
      "name": "python"
    }
  },
  "cells": [
    {
      "cell_type": "markdown",
      "metadata": {
        "id": "view-in-github",
        "colab_type": "text"
      },
      "source": [
        "<a href=\"https://colab.research.google.com/github/Gaurav-poddar/Web_Scrapping_projects/blob/main/Web_Scraping_IMDB_Top_250_movies.ipynb\" target=\"_parent\"><img src=\"https://colab.research.google.com/assets/colab-badge.svg\" alt=\"Open In Colab\"/></a>"
      ]
    },
    {
      "cell_type": "markdown",
      "source": [
        "# Objective : To Scrap relevant data from IMDB"
      ],
      "metadata": {
        "id": "47fxjTiidpKe"
      }
    },
    {
      "cell_type": "code",
      "execution_count": null,
      "metadata": {
        "id": "GK1EW8xfU0Ad"
      },
      "outputs": [],
      "source": [
        "from bs4 import BeautifulSoup\n",
        "import requests"
      ]
    },
    {
      "cell_type": "code",
      "source": [
        "url = 'https://www.imdb.com/chart/top/'\n",
        "# The error i got : 403 error\n",
        "# Solution used headers\n",
        "# Explanation : This is probably because of mod_security or some similar server security feature which blocks known spider/bot user\n",
        "# agents(urllib uses something like python urllib/3.3.0, it's easily detected). Try setting a known browser user agent with:\n",
        "# the explanation  see above: https://stackoverflow.com/questions/16627227/problem-http-error-403-in-python-3-web-scraping\n",
        "response = requests.get(url, headers={'User-Agent': 'Mozilla/5.0'})\n",
        "soup = BeautifulSoup(response.text, 'html.parser')\n",
        "print(response)"
      ],
      "metadata": {
        "colab": {
          "base_uri": "https://localhost:8080/"
        },
        "id": "uMSZnNdQU3vX",
        "outputId": "727886c2-0331-4e99-d34f-5eb35eca86bb"
      },
      "execution_count": null,
      "outputs": [
        {
          "output_type": "stream",
          "name": "stdout",
          "text": [
            "<Response [200]>\n"
          ]
        }
      ]
    },
    {
      "cell_type": "markdown",
      "source": [
        "### Fetching all the top 250 movie names\n",
        "\n",
        "\n",
        "---\n",
        "\n"
      ],
      "metadata": {
        "id": "Bf98SxQjVOoN"
      }
    },
    {
      "cell_type": "code",
      "source": [
        "movies = soup.find(\"ul\", class_ = \"ipc-metadata-list ipc-metadata-list--dividers-between sc-71ed9118-0 kxsUNk compact-list-view ipc-metadata-list--base\")\n",
        "movie_list = movies.find_all('a', class_='ipc-title-link-wrapper')\n",
        "top_250 = []\n",
        "for movie in movie_list:\n",
        "  movie_name = movie.h3.text.strip()\n",
        "  top_250.append(movie_name)\n",
        "\n",
        "print(top_250)"
      ],
      "metadata": {
        "colab": {
          "base_uri": "https://localhost:8080/"
        },
        "id": "Qxk1wjtkU4Pa",
        "outputId": "521c4a3a-e19d-4d40-a9c5-712b88964d4c"
      },
      "execution_count": null,
      "outputs": [
        {
          "output_type": "stream",
          "name": "stdout",
          "text": [
            "['1. The Shawshank Redemption', '2. The Godfather', '3. The Dark Knight', '4. The Godfather Part II', '5. 12 Angry Men', \"6. Schindler's List\", '7. The Lord of the Rings: The Return of the King', '8. Pulp Fiction', '9. The Lord of the Rings: The Fellowship of the Ring', '10. The Good, the Bad and the Ugly', '11. Forrest Gump', '12. Fight Club', '13. The Lord of the Rings: The Two Towers', '14. Inception', '15. Star Wars: Episode V - The Empire Strikes Back', '16. The Matrix', '17. Goodfellas', \"18. One Flew Over the Cuckoo's Nest\", '19. Se7en', \"20. It's a Wonderful Life\", '21. Interstellar', '22. Seven Samurai', '23. The Silence of the Lambs', '24. Saving Private Ryan', '25. City of God', '26. Life Is Beautiful', '27. The Green Mile', '28. Terminator 2: Judgment Day', '29. Star Wars: Episode IV - A New Hope', '30. Spider-Man: Across the Spider-Verse', '31. Back to the Future', '32. Spirited Away', '33. The Pianist', '34. Parasite', '35. Psycho', '36. Gladiator', '37. The Lion King', '38. Léon: The Professional', '39. The Departed', '40. American History X', '41. Whiplash', '42. The Prestige', '43. Grave of the Fireflies', '44. Harakiri', '45. The Usual Suspects', '46. Casablanca', '47. The Intouchables', '48. Modern Times', '49. Cinema Paradiso', '50. Rear Window', '51. 12th Fail', '52. Once Upon a Time in the West', '53. Alien', '54. City Lights', '55. Apocalypse Now', '56. Django Unchained', '57. Memento', '58. WALL·E', '59. Raiders of the Lost Ark', '60. The Lives of Others', '61. Sunset Blvd.', '62. Paths of Glory', '63. Avengers: Infinity War', '64. Spider-Man: Into the Spider-Verse', '65. The Shining', '66. Witness for the Prosecution', '67. The Great Dictator', '68. Aliens', '69. Inglourious Basterds', '70. The Dark Knight Rises', '71. American Beauty', '72. Dr. Strangelove or: How I Learned to Stop Worrying and Love the Bomb', '73. Oldboy', '74. Coco', '75. Amadeus', '76. Toy Story', '77. The Boat', '78. Braveheart', '79. Avengers: Endgame', '80. Oppenheimer', '81. Joker', '82. Princess Mononoke', '83. Good Will Hunting', '84. Your Name.', '85. Once Upon a Time in America', '86. High and Low', '87. 3 Idiots', \"88. Singin' in the Rain\", '89. Capernaum', '90. Requiem for a Dream', '91. Come and See', '92. Toy Story 3', '93. Star Wars: Episode VI - Return of the Jedi', '94. Eternal Sunshine of the Spotless Mind', '95. The Hunt', '96. 2001: A Space Odyssey', '97. Reservoir Dogs', '98. Ikiru', '99. Lawrence of Arabia', '100. The Apartment', '101. Poor Things', '102. Citizen Kane', '103. North by Northwest', '104. M', '105. Vertigo', '106. Double Indemnity', '107. Scarface', '108. Amélie', '109. Incendies', '110. Full Metal Jacket', '111. A Clockwork Orange', '112. Heat', '113. Up', '114. To Kill a Mockingbird', '115. The Sting', '116. A Separation', '117. Indiana Jones and the Last Crusade', '118. Hamilton', '119. Die Hard', '120. Metropolis', '121. Like Stars on Earth', '122. Snatch', '123. Bicycle Thieves', '124. L.A. Confidential', '125. 1917', '126. Taxi Driver', '127. Downfall', '128. Dangal', '129. For a Few Dollars More', '130. Batman Begins', '131. Some Like It Hot', '132. The Wolf of Wall Street', '133. The Kid', '134. Green Book', '135. The Father', '136. Top Gun: Maverick', '137. All About Eve', '138. Judgment at Nuremberg', '139. The Truman Show', '140. There Will Be Blood', '141. Shutter Island', '142. Casino', '143. Ran', '144. Jurassic Park', '145. The Sixth Sense', \"146. Pan's Labyrinth\", '147. Unforgiven', '148. A Beautiful Mind', '149. No Country for Old Men', '150. The Treasure of the Sierra Madre', '151. Yojimbo', '152. The Thing', '153. Kill Bill: Vol. 1', '154. Monty Python and the Holy Grail', '155. The Great Escape', '156. Finding Nemo', '157. Rashomon', '158. The Elephant Man', \"159. Howl's Moving Castle\", '160. Chinatown', '161. Prisoners', '162. Dial M for Murder', '163. Gone with the Wind', '164. V for Vendetta', '165. Lock, Stock and Two Smoking Barrels', '166. The Secret in Their Eyes', '167. Raging Bull', '168. Inside Out', '169. Three Billboards Outside Ebbing, Missouri', '170. Trainspotting', '171. The Bridge on the River Kwai', '172. Spider-Man: No Way Home', '173. Godzilla Minus One', '174. Fargo', '175. Warrior', '176. Klaus', '177. Catch Me If You Can', '178. Gran Torino', '179. My Neighbor Totoro', '180. Million Dollar Baby', '181. Harry Potter and the Deathly Hallows: Part 2', '182. Children of Heaven', '183. Blade Runner', '184. 12 Years a Slave', '185. Before Sunrise', '186. The Grand Budapest Hotel', '187. Ben-Hur', '188. Barry Lyndon', '189. Gone Girl', '190. The Gold Rush', '191. Hacksaw Ridge', '192. In the Name of the Father', '193. Memories of Murder', '194. On the Waterfront', '195. The General', '196. The Deer Hunter', '197. Dead Poets Society', '198. Wild Tales', '199. Mad Max: Fury Road', '200. Wild Strawberries', '201. Sherlock Jr.', '202. The Third Man', '203. The Wages of Fear', '204. Monsters, Inc.', '205. Jaws', '206. How to Train Your Dragon', '207. Mr. Smith Goes to Washington', '208. Mary and Max', '209. Ford v Ferrari', '210. Ratatouille', '211. The Seventh Seal', '212. Room', '213. The Big Lebowski', '214. Tokyo Story', '215. Rocky', '216. Hotel Rwanda', '217. Logan', '218. Spotlight', '219. Platoon', '220. The Terminator', '221. The Passion of Joan of Arc', '222. Jai Bhim', '223. Before Sunset', '224. The Best Years of Our Lives', '225. La haine', '226. Rush', '227. The Exorcist', '228. Network', '229. Stand by Me', '230. Pirates of the Caribbean: The Curse of the Black Pearl', '231. The Wizard of Oz', '232. The Incredibles', '233. Into the Wild', \"234. Hachi: A Dog's Tale\", '235. The Handmaiden', '236. To Be or Not to Be', '237. My Father and My Son', '238. The Grapes of Wrath', '239. The Battle of Algiers', '240. Groundhog Day', '241. The Sound of Music', '242. Amores Perros', '243. Rebecca', '244. Cool Hand Luke', '245. The Iron Giant', '246. The Help', '247. It Happened One Night', '248. The 400 Blows', '249. Drishyam', '250. Aladdin']\n"
          ]
        }
      ]
    },
    {
      "cell_type": "markdown",
      "source": [
        "## Movie MetaData"
      ],
      "metadata": {
        "id": "CIihJmUjWxBV"
      }
    },
    {
      "cell_type": "code",
      "source": [
        "# Find all div elements with the specified class\n",
        "div_elements = soup.find_all('div', class_='sc-be6f1408-7 iUtHEN cli-title-metadata')\n",
        "movie_details = []\n",
        "# Loop through each div element\n",
        "for div_element in div_elements:\n",
        "    # Extract and print the content of each span inside the div\n",
        "    span_elements = div_element.find_all('span', class_='sc-be6f1408-8 fcCUPU cli-title-metadata-item')\n",
        "    span = ''\n",
        "    for span_element in span_elements:\n",
        "      span = span + \" \" + span_element.text\n",
        "    movie_details.append(span)\n",
        "\n",
        "movie_details"
      ],
      "metadata": {
        "colab": {
          "base_uri": "https://localhost:8080/"
        },
        "id": "rWHt0VKOWviU",
        "outputId": "7c5d43e4-5c17-43ec-f37b-805391e3eaac"
      },
      "execution_count": null,
      "outputs": [
        {
          "output_type": "execute_result",
          "data": {
            "text/plain": [
              "[' 1994 2h 22m R',\n",
              " ' 1972 2h 55m R',\n",
              " ' 2008 2h 32m PG-13',\n",
              " ' 1974 3h 22m R',\n",
              " ' 1957 1h 36m Approved',\n",
              " ' 1993 3h 15m R',\n",
              " ' 2003 3h 21m PG-13',\n",
              " ' 1994 2h 34m R',\n",
              " ' 2001 2h 58m PG-13',\n",
              " ' 1966 2h 58m Approved',\n",
              " ' 1994 2h 22m PG-13',\n",
              " ' 1999 2h 19m R',\n",
              " ' 2002 2h 59m PG-13',\n",
              " ' 2010 2h 28m PG-13',\n",
              " ' 1980 2h 4m PG',\n",
              " ' 1999 2h 16m R',\n",
              " ' 1990 2h 25m R',\n",
              " ' 1975 2h 13m R',\n",
              " ' 1995 2h 7m R',\n",
              " ' 1946 2h 10m PG',\n",
              " ' 2014 2h 49m PG-13',\n",
              " ' 1954 3h 27m Not Rated',\n",
              " ' 1991 1h 58m R',\n",
              " ' 1998 2h 49m R',\n",
              " ' 2002 2h 10m R',\n",
              " ' 1997 1h 56m PG-13',\n",
              " ' 1999 3h 9m R',\n",
              " ' 1991 2h 17m R',\n",
              " ' 1977 2h 1m PG',\n",
              " ' 2023 2h 20m PG',\n",
              " ' 1985 1h 56m PG',\n",
              " ' 2001 2h 5m PG',\n",
              " ' 2002 2h 30m R',\n",
              " ' 2019 2h 12m R',\n",
              " ' 1960 1h 49m R',\n",
              " ' 2000 2h 35m R',\n",
              " ' 1994 1h 28m G',\n",
              " ' 1994 1h 50m R',\n",
              " ' 2006 2h 31m R',\n",
              " ' 1998 1h 59m R',\n",
              " ' 2014 1h 46m R',\n",
              " ' 2006 2h 10m PG-13',\n",
              " ' 1988 1h 29m Not Rated',\n",
              " ' 1962 2h 13m Not Rated',\n",
              " ' 1995 1h 46m R',\n",
              " ' 1942 1h 42m PG',\n",
              " ' 2011 1h 52m R',\n",
              " ' 1936 1h 27m G',\n",
              " ' 1988 2h 35m PG',\n",
              " ' 1954 1h 52m PG',\n",
              " ' 2023 2h 27m',\n",
              " ' 1968 2h 46m PG-13',\n",
              " ' 1979 1h 57m R',\n",
              " ' 1931 1h 27m G',\n",
              " ' 1979 2h 27m R',\n",
              " ' 2012 2h 45m R',\n",
              " ' 2000 1h 53m R',\n",
              " ' 2008 1h 38m G',\n",
              " ' 1981 1h 55m PG',\n",
              " ' 2006 2h 17m R',\n",
              " ' 1950 1h 50m Passed',\n",
              " ' 1957 1h 28m Approved',\n",
              " ' 2018 2h 29m PG-13',\n",
              " ' 2018 1h 57m PG',\n",
              " ' 1980 2h 26m R',\n",
              " ' 1957 1h 56m Approved',\n",
              " ' 1940 2h 5m G',\n",
              " ' 1986 2h 17m R',\n",
              " ' 2009 2h 33m R',\n",
              " ' 2012 2h 44m PG-13',\n",
              " ' 1999 2h 2m R',\n",
              " ' 1964 1h 35m PG',\n",
              " ' 2003 2h R',\n",
              " ' 2017 1h 45m PG',\n",
              " ' 1984 2h 40m PG',\n",
              " ' 1995 1h 21m G',\n",
              " ' 1981 2h 29m',\n",
              " ' 1995 2h 58m R',\n",
              " ' 2019 3h 1m PG-13',\n",
              " ' 2023 3h R',\n",
              " ' 2019 2h 2m R',\n",
              " ' 1997 2h 14m PG-13',\n",
              " ' 1997 2h 6m R',\n",
              " ' 2016 1h 46m TV-PG',\n",
              " ' 1984 3h 49m R',\n",
              " ' 1963 2h 23m Not Rated',\n",
              " ' 2009 2h 50m PG-13',\n",
              " ' 1952 1h 43m G',\n",
              " ' 2018 2h 6m R',\n",
              " ' 2000 1h 42m Unrated',\n",
              " ' 1985 2h 22m Not Rated',\n",
              " ' 2010 1h 43m G',\n",
              " ' 1983 2h 11m PG',\n",
              " ' 2004 1h 48m R',\n",
              " ' 2012 1h 55m R',\n",
              " ' 1968 2h 29m G',\n",
              " ' 1992 1h 39m R',\n",
              " ' 1952 2h 23m Not Rated',\n",
              " ' 1962 3h 38m Approved',\n",
              " ' 1960 2h 5m Approved',\n",
              " ' 2023 2h 21m R',\n",
              " ' 1941 1h 59m PG',\n",
              " ' 1959 2h 16m Approved',\n",
              " ' 1931 1h 39m Passed',\n",
              " ' 1958 2h 8m PG',\n",
              " ' 1944 1h 47m Passed',\n",
              " ' 1983 2h 50m 18+',\n",
              " ' 2001 2h 2m R',\n",
              " ' 2010 2h 11m R',\n",
              " ' 1987 1h 56m R',\n",
              " ' 1971 2h 16m X',\n",
              " ' 1995 2h 50m R',\n",
              " ' 2009 1h 36m PG',\n",
              " ' 1962 2h 9m Approved',\n",
              " ' 1973 2h 9m PG',\n",
              " ' 2011 2h 3m PG-13',\n",
              " ' 1989 2h 7m PG-13',\n",
              " ' 2020 2h 40m PG-13',\n",
              " ' 1988 2h 12m R',\n",
              " ' 1927 2h 33m Not Rated',\n",
              " ' 2007 2h 42m PG',\n",
              " ' 2000 1h 42m R',\n",
              " ' 1948 1h 29m Not Rated',\n",
              " ' 1997 2h 18m R',\n",
              " ' 2019 1h 59m R',\n",
              " ' 1976 1h 54m R',\n",
              " ' 2004 2h 36m R',\n",
              " ' 2016 2h 41m Not Rated',\n",
              " ' 1965 2h 12m R',\n",
              " ' 2005 2h 20m PG-13',\n",
              " ' 1959 2h 1m Passed',\n",
              " ' 2013 3h R',\n",
              " ' 1921 1h 8m Passed',\n",
              " ' 2018 2h 10m PG-13',\n",
              " ' 2020 1h 37m PG-13',\n",
              " ' 2022 2h 10m PG-13',\n",
              " ' 1950 2h 18m Passed',\n",
              " ' 1961 2h 59m Approved',\n",
              " ' 1998 1h 43m PG',\n",
              " ' 2007 2h 38m R',\n",
              " ' 2010 2h 18m R',\n",
              " ' 1995 2h 58m R',\n",
              " ' 1985 2h 40m R',\n",
              " ' 1993 2h 7m PG-13',\n",
              " ' 1999 1h 47m PG-13',\n",
              " ' 2006 1h 58m R',\n",
              " ' 1992 2h 10m R',\n",
              " ' 2001 2h 15m PG-13',\n",
              " ' 2007 2h 2m R',\n",
              " ' 1948 2h 6m Passed',\n",
              " ' 1961 1h 50m Not Rated',\n",
              " ' 1982 1h 49m R',\n",
              " ' 2003 1h 51m R',\n",
              " ' 1975 1h 31m PG',\n",
              " ' 1963 2h 52m Approved',\n",
              " ' 2003 1h 40m G',\n",
              " ' 1950 1h 28m Not Rated',\n",
              " ' 1980 2h 4m PG',\n",
              " ' 2004 1h 59m PG',\n",
              " ' 1974 2h 10m R',\n",
              " ' 2013 2h 33m R',\n",
              " ' 1954 1h 45m PG',\n",
              " ' 1939 3h 58m Passed',\n",
              " ' 2005 2h 12m R',\n",
              " ' 1998 1h 47m R',\n",
              " ' 2009 2h 9m R',\n",
              " ' 1980 2h 9m R',\n",
              " ' 2015 1h 35m PG',\n",
              " ' 2017 1h 55m R',\n",
              " ' 1996 1h 33m R',\n",
              " ' 1957 2h 41m PG',\n",
              " ' 2021 2h 28m PG-13',\n",
              " ' 2023 2h 4m PG-13',\n",
              " ' 1996 1h 38m R',\n",
              " ' 2011 2h 20m PG-13',\n",
              " ' 2019 1h 36m PG',\n",
              " ' 2002 2h 21m PG-13',\n",
              " ' 2008 1h 56m R',\n",
              " ' 1988 1h 26m G',\n",
              " ' 2004 2h 12m PG-13',\n",
              " ' 2011 2h 10m PG-13',\n",
              " ' 1997 1h 29m PG',\n",
              " ' 1982 1h 57m R',\n",
              " ' 2013 2h 14m R',\n",
              " ' 1995 1h 41m R',\n",
              " ' 2014 1h 39m R',\n",
              " ' 1959 3h 32m G',\n",
              " ' 1975 3h 5m PG',\n",
              " ' 2014 2h 29m R',\n",
              " ' 1925 1h 35m Passed',\n",
              " ' 2016 2h 19m R',\n",
              " ' 1993 2h 13m R',\n",
              " ' 2003 2h 12m Not Rated',\n",
              " ' 1954 1h 48m Approved',\n",
              " ' 1926 1h 18m Passed',\n",
              " ' 1978 3h 3m R',\n",
              " ' 1989 2h 8m PG',\n",
              " ' 2014 2h 2m R',\n",
              " ' 2015 2h R',\n",
              " ' 1957 1h 31m Not Rated',\n",
              " ' 1924 45m Passed',\n",
              " ' 1949 1h 33m Approved',\n",
              " ' 1953 2h 11m Not Rated',\n",
              " ' 2001 1h 32m G',\n",
              " ' 1975 2h 4m PG',\n",
              " ' 2010 1h 38m PG',\n",
              " ' 1939 2h 9m Passed',\n",
              " ' 2009 1h 32m Not Rated',\n",
              " ' 2019 2h 32m PG-13',\n",
              " ' 2007 1h 51m G',\n",
              " ' 1957 1h 36m Not Rated',\n",
              " ' 2015 1h 58m R',\n",
              " ' 1998 1h 57m R',\n",
              " ' 1953 2h 16m Not Rated',\n",
              " ' 1976 2h PG',\n",
              " ' 2004 2h 1m PG-13',\n",
              " ' 2017 2h 17m R',\n",
              " ' 2015 2h 9m R',\n",
              " ' 1986 2h R',\n",
              " ' 1984 1h 47m R',\n",
              " ' 1928 1h 54m Passed',\n",
              " ' 2021 2h 44m TV-MA',\n",
              " ' 2004 1h 20m R',\n",
              " ' 1946 2h 50m Approved',\n",
              " ' 1995 1h 38m Not Rated',\n",
              " ' 2013 2h 3m R',\n",
              " ' 1973 2h 2m R',\n",
              " ' 1976 2h 1m R',\n",
              " ' 1986 1h 29m R',\n",
              " ' 2003 2h 23m PG-13',\n",
              " ' 1939 1h 42m G',\n",
              " ' 2004 1h 55m PG',\n",
              " ' 2007 2h 28m R',\n",
              " ' 2009 1h 33m G',\n",
              " ' 2016 2h 25m Not Rated',\n",
              " ' 1942 1h 39m Passed',\n",
              " ' 2005 1h 52m Not Rated',\n",
              " ' 1940 2h 9m Passed',\n",
              " ' 1966 2h 1m Not Rated',\n",
              " ' 1993 1h 41m PG',\n",
              " ' 1965 2h 52m G',\n",
              " ' 2000 2h 34m R',\n",
              " ' 1940 2h 10m Approved',\n",
              " ' 1967 2h 7m GP',\n",
              " ' 1999 1h 26m PG',\n",
              " ' 2011 2h 26m PG-13',\n",
              " ' 1934 1h 45m Passed',\n",
              " ' 1959 1h 39m Not Rated',\n",
              " ' 2015 2h 43m Not Rated',\n",
              " ' 1992 1h 30m G']"
            ]
          },
          "metadata": {},
          "execution_count": 32
        }
      ]
    },
    {
      "cell_type": "markdown",
      "source": [
        "## IMDB Rating of each Film\n",
        "\n"
      ],
      "metadata": {
        "id": "gh6Hln2Hg6QA"
      }
    },
    {
      "cell_type": "code",
      "source": [
        "# Find all div elements with the specified class\n",
        "all_ratings = soup.find_all('div', class_ = 'sc-e2dbc1a3-0 ajrIH sc-be6f1408-2 dAeZAQ cli-ratings-container')\n",
        "all_IMDB_ratings = []\n",
        "for rating in all_ratings:\n",
        "  value = rating.find('span', class_ = 'ipc-rating-star ipc-rating-star--base ipc-rating-star--imdb ratingGroup--imdb-rating').text\n",
        "  all_IMDB_ratings.append(value[:3]) # need only the rating not the number of people had rated.\n",
        "\n",
        "print(all_IMDB_ratings)"
      ],
      "metadata": {
        "colab": {
          "base_uri": "https://localhost:8080/"
        },
        "id": "3_lSfM3ug_PX",
        "outputId": "9ef5d4a4-f9b9-4671-e4db-1a4ff0d0e967"
      },
      "execution_count": null,
      "outputs": [
        {
          "output_type": "stream",
          "name": "stdout",
          "text": [
            "['9.3', '9.2', '9.0', '9.0', '9.0', '9.0', '9.0', '8.9', '8.9', '8.8', '8.8', '8.8', '8.8', '8.8', '8.7', '8.7', '8.7', '8.7', '8.6', '8.6', '8.7', '8.6', '8.6', '8.6', '8.6', '8.6', '8.6', '8.6', '8.6', '8.6', '8.5', '8.6', '8.5', '8.5', '8.5', '8.5', '8.5', '8.5', '8.5', '8.5', '8.5', '8.5', '8.5', '8.6', '8.5', '8.5', '8.5', '8.5', '8.5', '8.5', '9.2', '8.5', '8.5', '8.5', '8.4', '8.5', '8.4', '8.4', '8.4', '8.4', '8.4', '8.4', '8.4', '8.4', '8.4', '8.4', '8.4', '8.4', '8.4', '8.4', '8.3', '8.4', '8.3', '8.4', '8.4', '8.3', '8.4', '8.3', '8.4', '8.4', '8.4', '8.3', '8.3', '8.4', '8.3', '8.4', '8.4', '8.3', '8.4', '8.3', '8.4', '8.3', '8.3', '8.3', '8.3', '8.3', '8.3', '8.3', '8.3', '8.3', '8.4', '8.3', '8.3', '8.3', '8.3', '8.3', '8.3', '8.3', '8.3', '8.3', '8.3', '8.3', '8.3', '8.3', '8.3', '8.3', '8.2', '8.3', '8.2', '8.3', '8.3', '8.2', '8.3', '8.2', '8.2', '8.2', '8.2', '8.3', '8.2', '8.2', '8.2', '8.2', '8.2', '8.2', '8.2', '8.3', '8.2', '8.3', '8.2', '8.2', '8.2', '8.2', '8.2', '8.2', '8.2', '8.2', '8.2', '8.2', '8.2', '8.2', '8.2', '8.2', '8.2', '8.2', '8.2', '8.2', '8.2', '8.2', '8.2', '8.1', '8.1', '8.2', '8.2', '8.2', '8.1', '8.2', '8.1', '8.1', '8.1', '8.1', '8.1', '8.2', '8.3', '8.1', '8.1', '8.2', '8.1', '8.1', '8.1', '8.1', '8.1', '8.2', '8.1', '8.1', '8.1', '8.1', '8.1', '8.1', '8.1', '8.1', '8.1', '8.1', '8.1', '8.1', '8.1', '8.1', '8.1', '8.1', '8.1', '8.1', '8.2', '8.1', '8.2', '8.1', '8.1', '8.1', '8.1', '8.1', '8.1', '8.1', '8.1', '8.1', '8.1', '8.1', '8.1', '8.1', '8.1', '8.1', '8.1', '8.1', '8.1', '8.7', '8.1', '8.1', '8.1', '8.1', '8.1', '8.1', '8.1', '8.1', '8.1', '8.0', '8.1', '8.1', '8.1', '8.1', '8.2', '8.1', '8.1', '8.0', '8.1', '8.1', '8.1', '8.1', '8.1', '8.1', '8.1', '8.1', '8.2', '8.0']\n"
          ]
        }
      ]
    },
    {
      "cell_type": "markdown",
      "source": [
        "## Director and Actors Name\n"
      ],
      "metadata": {
        "id": "dC8I7JD-jfdL"
      }
    },
    {
      "cell_type": "code",
      "source": [
        "directors_list = soup.find_all('div', class_ = \"ipc-promptable-base__focus-lock\")\n",
        "directors_name = []\n",
        "# for director in directors_list:\n",
        "#   name = director.find('a', class_ = 'ipc-link ipc-link--baseAlt sc-9bca7e5d-0 ktChvQ').text\n",
        "#   directors_name.append(name)\n",
        "# Error : We were tring to parse data from a popup  but it was showing empty data.\n",
        "# Beautiful Soup is primarily designed for parsing and navigating HTML content, but it doesn't handle dynamic actions like button clicks.\n",
        "# For handling dynamic actions, you can combine Beautiful Soup with a library like requests or use a headless browser like Selenium.\n",
        "\n",
        "\n",
        "print(len(directors_list))"
      ],
      "metadata": {
        "colab": {
          "base_uri": "https://localhost:8080/"
        },
        "id": "ggeX-TTbi-nn",
        "outputId": "0aec6c22-dbf5-4f48-bd0a-908c2fed1470"
      },
      "execution_count": null,
      "outputs": [
        {
          "output_type": "stream",
          "name": "stdout",
          "text": [
            "0\n"
          ]
        }
      ]
    },
    {
      "cell_type": "code",
      "source": [
        "!pip install selenium"
      ],
      "metadata": {
        "colab": {
          "base_uri": "https://localhost:8080/"
        },
        "id": "39PeFVtDuXo0",
        "outputId": "763cc514-8ce6-419a-c272-8117e0c8e059"
      },
      "execution_count": null,
      "outputs": [
        {
          "output_type": "stream",
          "name": "stdout",
          "text": [
            "Collecting selenium\n",
            "  Downloading selenium-4.17.2-py3-none-any.whl (9.9 MB)\n",
            "\u001b[2K     \u001b[90m━━━━━━━━━━━━━━━━━━━━━━━━━━━━━━━━━━━━━━━━\u001b[0m \u001b[32m9.9/9.9 MB\u001b[0m \u001b[31m31.0 MB/s\u001b[0m eta \u001b[36m0:00:00\u001b[0m\n",
            "\u001b[?25hRequirement already satisfied: urllib3[socks]<3,>=1.26 in /usr/local/lib/python3.10/dist-packages (from selenium) (2.0.7)\n",
            "Collecting trio~=0.17 (from selenium)\n",
            "  Downloading trio-0.24.0-py3-none-any.whl (460 kB)\n",
            "\u001b[2K     \u001b[90m━━━━━━━━━━━━━━━━━━━━━━━━━━━━━━━━━━━━━━━━\u001b[0m \u001b[32m460.2/460.2 kB\u001b[0m \u001b[31m29.4 MB/s\u001b[0m eta \u001b[36m0:00:00\u001b[0m\n",
            "\u001b[?25hCollecting trio-websocket~=0.9 (from selenium)\n",
            "  Downloading trio_websocket-0.11.1-py3-none-any.whl (17 kB)\n",
            "Requirement already satisfied: certifi>=2021.10.8 in /usr/local/lib/python3.10/dist-packages (from selenium) (2023.11.17)\n",
            "Collecting typing_extensions>=4.9.0 (from selenium)\n",
            "  Downloading typing_extensions-4.9.0-py3-none-any.whl (32 kB)\n",
            "Requirement already satisfied: attrs>=20.1.0 in /usr/local/lib/python3.10/dist-packages (from trio~=0.17->selenium) (23.2.0)\n",
            "Requirement already satisfied: sortedcontainers in /usr/local/lib/python3.10/dist-packages (from trio~=0.17->selenium) (2.4.0)\n",
            "Requirement already satisfied: idna in /usr/local/lib/python3.10/dist-packages (from trio~=0.17->selenium) (3.6)\n",
            "Collecting outcome (from trio~=0.17->selenium)\n",
            "  Downloading outcome-1.3.0.post0-py2.py3-none-any.whl (10 kB)\n",
            "Requirement already satisfied: sniffio>=1.3.0 in /usr/local/lib/python3.10/dist-packages (from trio~=0.17->selenium) (1.3.0)\n",
            "Requirement already satisfied: exceptiongroup in /usr/local/lib/python3.10/dist-packages (from trio~=0.17->selenium) (1.2.0)\n",
            "Collecting wsproto>=0.14 (from trio-websocket~=0.9->selenium)\n",
            "  Downloading wsproto-1.2.0-py3-none-any.whl (24 kB)\n",
            "Requirement already satisfied: pysocks!=1.5.7,<2.0,>=1.5.6 in /usr/local/lib/python3.10/dist-packages (from urllib3[socks]<3,>=1.26->selenium) (1.7.1)\n",
            "Collecting h11<1,>=0.9.0 (from wsproto>=0.14->trio-websocket~=0.9->selenium)\n",
            "  Downloading h11-0.14.0-py3-none-any.whl (58 kB)\n",
            "\u001b[2K     \u001b[90m━━━━━━━━━━━━━━━━━━━━━━━━━━━━━━━━━━━━━━━━\u001b[0m \u001b[32m58.3/58.3 kB\u001b[0m \u001b[31m8.4 MB/s\u001b[0m eta \u001b[36m0:00:00\u001b[0m\n",
            "\u001b[?25hInstalling collected packages: typing_extensions, outcome, h11, wsproto, trio, trio-websocket, selenium\n",
            "  Attempting uninstall: typing_extensions\n",
            "    Found existing installation: typing_extensions 4.5.0\n",
            "    Uninstalling typing_extensions-4.5.0:\n",
            "      Successfully uninstalled typing_extensions-4.5.0\n",
            "\u001b[31mERROR: pip's dependency resolver does not currently take into account all the packages that are installed. This behaviour is the source of the following dependency conflicts.\n",
            "tensorflow-probability 0.22.0 requires typing-extensions<4.6.0, but you have typing-extensions 4.9.0 which is incompatible.\u001b[0m\u001b[31m\n",
            "\u001b[0mSuccessfully installed h11-0.14.0 outcome-1.3.0.post0 selenium-4.17.2 trio-0.24.0 trio-websocket-0.11.1 typing_extensions-4.9.0 wsproto-1.2.0\n"
          ]
        }
      ]
    },
    {
      "cell_type": "code",
      "source": [
        "!pip install webdriver_manager"
      ],
      "metadata": {
        "colab": {
          "base_uri": "https://localhost:8080/"
        },
        "id": "yQU5XwH9yJ9F",
        "outputId": "d8c75f86-a84e-4603-abe9-679e9b462bf6"
      },
      "execution_count": null,
      "outputs": [
        {
          "output_type": "stream",
          "name": "stdout",
          "text": [
            "Collecting webdriver_manager\n",
            "  Downloading webdriver_manager-4.0.1-py2.py3-none-any.whl (27 kB)\n",
            "Requirement already satisfied: requests in /usr/local/lib/python3.10/dist-packages (from webdriver_manager) (2.31.0)\n",
            "Collecting python-dotenv (from webdriver_manager)\n",
            "  Downloading python_dotenv-1.0.1-py3-none-any.whl (19 kB)\n",
            "Requirement already satisfied: packaging in /usr/local/lib/python3.10/dist-packages (from webdriver_manager) (23.2)\n",
            "Requirement already satisfied: charset-normalizer<4,>=2 in /usr/local/lib/python3.10/dist-packages (from requests->webdriver_manager) (3.3.2)\n",
            "Requirement already satisfied: idna<4,>=2.5 in /usr/local/lib/python3.10/dist-packages (from requests->webdriver_manager) (3.6)\n",
            "Requirement already satisfied: urllib3<3,>=1.21.1 in /usr/local/lib/python3.10/dist-packages (from requests->webdriver_manager) (2.0.7)\n",
            "Requirement already satisfied: certifi>=2017.4.17 in /usr/local/lib/python3.10/dist-packages (from requests->webdriver_manager) (2023.11.17)\n",
            "Installing collected packages: python-dotenv, webdriver_manager\n",
            "Successfully installed python-dotenv-1.0.1 webdriver_manager-4.0.1\n"
          ]
        }
      ]
    },
    {
      "cell_type": "code",
      "source": [
        "!pip install chromedriver-autoinstaller"
      ],
      "metadata": {
        "colab": {
          "base_uri": "https://localhost:8080/"
        },
        "id": "5ZN57tdk2cVs",
        "outputId": "76391ed3-aebc-4eef-e102-1e752d43cb3d"
      },
      "execution_count": null,
      "outputs": [
        {
          "output_type": "stream",
          "name": "stdout",
          "text": [
            "Collecting chromedriver-autoinstaller\n",
            "  Downloading chromedriver_autoinstaller-0.6.4-py3-none-any.whl (7.6 kB)\n",
            "Requirement already satisfied: packaging>=23.1 in /usr/local/lib/python3.10/dist-packages (from chromedriver-autoinstaller) (23.2)\n",
            "Installing collected packages: chromedriver-autoinstaller\n",
            "Successfully installed chromedriver-autoinstaller-0.6.4\n"
          ]
        }
      ]
    },
    {
      "cell_type": "code",
      "source": [
        "# from bs4 import BeautifulSoup\n",
        "from selenium import webdriver\n",
        "from selenium.webdriver.common.by import By\n",
        "from selenium.webdriver.support.ui import WebDriverWait\n",
        "from selenium.webdriver.support import expected_conditions as EC\n",
        "from webdriver_manager.chrome import ChromeDriverManager\n",
        "import chromedriver_autoinstaller\n",
        "\n",
        "# Set up the WebDriver (make sure to download the appropriate driver for your browser)\n",
        "# driver = webdriver.Chrome(executable_path='path/to/chromedriver')\n",
        "\n",
        "chrome_options = webdriver.ChromeOptions()\n",
        "chrome_options.add_argument('--headless')\n",
        "chrome_options.add_argument('--no-sandbox')\n",
        "chrome_options.headless = True\n",
        "driver = webdriver.Chrome(ChromeDriverManager().install())\n",
        "# wd.get(\"https://www.webite-url.com\")\n",
        "\n",
        "# set path to chromedriver as per your configuration\n",
        "chromedriver_autoinstaller.install()\n",
        "\n",
        "# set the target URL\n",
        "url = \"https://www.imdb.com/chart/top/\"\n",
        "\n",
        "# set up the webdriver\n",
        "driver = webdriver.Chrome(options=chrome_options)\n",
        "\n",
        "# Navigate to the website with the button that generates the popup\n",
        "# driver.get('https://www.imdb.com/chart/top/')\n",
        "\n",
        "# try:\n",
        "#     # Find and click the button that generates the popup (replace 'button-id' with the actual ID or other locator)\n",
        "#     popup_button = WebDriverWait(driver, 10).until(\n",
        "#         EC.presence_of_element_located((By.ID, 'button-id'))\n",
        "#     )\n",
        "#     popup_button.click()\n",
        "\n",
        "#     # Wait for the popup to appear (replace 'popup-id' with the actual ID or other locator)\n",
        "#     popup = WebDriverWait(driver, 10).until(\n",
        "#         EC.presence_of_element_located((By.ID, 'popup-id'))\n",
        "#     )\n",
        "\n",
        "#     # Extract the HTML content of the popup\n",
        "#     popup_html = popup.get_attribute('outerHTML')\n",
        "\n",
        "#     # Use Beautiful Soup to parse the HTML content\n",
        "#     soup = BeautifulSoup(popup_html, 'html.parser')\n",
        "\n",
        "#     # Extract data from the parsed HTML using Beautiful Soup methods\n",
        "#     # (replace 'data-class' with the actual class or tag used in the popup)\n",
        "#     data_elements = soup.find_all(class_='data-class')\n",
        "\n",
        "#     for data_element in data_elements:\n",
        "#         print(data_element.text)\n",
        "\n",
        "# finally:\n",
        "#     # Close the WebDriver\n",
        "#     driver.quit()\n"
      ],
      "metadata": {
        "colab": {
          "base_uri": "https://localhost:8080/",
          "height": 390
        },
        "id": "plePeje7rw5r",
        "outputId": "a4bd4979-4e98-4b61-8ed6-402ed3821101"
      },
      "execution_count": null,
      "outputs": [
        {
          "output_type": "error",
          "ename": "AttributeError",
          "evalue": "'NoneType' object has no attribute 'split'",
          "traceback": [
            "\u001b[0;31m---------------------------------------------------------------------------\u001b[0m",
            "\u001b[0;31mAttributeError\u001b[0m                            Traceback (most recent call last)",
            "\u001b[0;32m<ipython-input-5-178272d5150d>\u001b[0m in \u001b[0;36m<cell line: 15>\u001b[0;34m()\u001b[0m\n\u001b[1;32m     13\u001b[0m \u001b[0mchrome_options\u001b[0m\u001b[0;34m.\u001b[0m\u001b[0madd_argument\u001b[0m\u001b[0;34m(\u001b[0m\u001b[0;34m'--no-sandbox'\u001b[0m\u001b[0;34m)\u001b[0m\u001b[0;34m\u001b[0m\u001b[0;34m\u001b[0m\u001b[0m\n\u001b[1;32m     14\u001b[0m \u001b[0mchrome_options\u001b[0m\u001b[0;34m.\u001b[0m\u001b[0mheadless\u001b[0m \u001b[0;34m=\u001b[0m \u001b[0;32mTrue\u001b[0m\u001b[0;34m\u001b[0m\u001b[0;34m\u001b[0m\u001b[0m\n\u001b[0;32m---> 15\u001b[0;31m \u001b[0mdriver\u001b[0m \u001b[0;34m=\u001b[0m \u001b[0mwebdriver\u001b[0m\u001b[0;34m.\u001b[0m\u001b[0mChrome\u001b[0m\u001b[0;34m(\u001b[0m\u001b[0mChromeDriverManager\u001b[0m\u001b[0;34m(\u001b[0m\u001b[0;34m)\u001b[0m\u001b[0;34m.\u001b[0m\u001b[0minstall\u001b[0m\u001b[0;34m(\u001b[0m\u001b[0;34m)\u001b[0m\u001b[0;34m)\u001b[0m\u001b[0;34m\u001b[0m\u001b[0;34m\u001b[0m\u001b[0m\n\u001b[0m\u001b[1;32m     16\u001b[0m \u001b[0;31m# wd.get(\"https://www.webite-url.com\")\u001b[0m\u001b[0;34m\u001b[0m\u001b[0;34m\u001b[0m\u001b[0m\n\u001b[1;32m     17\u001b[0m \u001b[0;34m\u001b[0m\u001b[0m\n",
            "\u001b[0;32m/usr/local/lib/python3.10/dist-packages/webdriver_manager/chrome.py\u001b[0m in \u001b[0;36minstall\u001b[0;34m(self)\u001b[0m\n\u001b[1;32m     38\u001b[0m \u001b[0;34m\u001b[0m\u001b[0m\n\u001b[1;32m     39\u001b[0m     \u001b[0;32mdef\u001b[0m \u001b[0minstall\u001b[0m\u001b[0;34m(\u001b[0m\u001b[0mself\u001b[0m\u001b[0;34m)\u001b[0m \u001b[0;34m->\u001b[0m \u001b[0mstr\u001b[0m\u001b[0;34m:\u001b[0m\u001b[0;34m\u001b[0m\u001b[0;34m\u001b[0m\u001b[0m\n\u001b[0;32m---> 40\u001b[0;31m         \u001b[0mdriver_path\u001b[0m \u001b[0;34m=\u001b[0m \u001b[0mself\u001b[0m\u001b[0;34m.\u001b[0m\u001b[0m_get_driver_binary_path\u001b[0m\u001b[0;34m(\u001b[0m\u001b[0mself\u001b[0m\u001b[0;34m.\u001b[0m\u001b[0mdriver\u001b[0m\u001b[0;34m)\u001b[0m\u001b[0;34m\u001b[0m\u001b[0;34m\u001b[0m\u001b[0m\n\u001b[0m\u001b[1;32m     41\u001b[0m         \u001b[0mos\u001b[0m\u001b[0;34m.\u001b[0m\u001b[0mchmod\u001b[0m\u001b[0;34m(\u001b[0m\u001b[0mdriver_path\u001b[0m\u001b[0;34m,\u001b[0m \u001b[0;36m0o755\u001b[0m\u001b[0;34m)\u001b[0m\u001b[0;34m\u001b[0m\u001b[0;34m\u001b[0m\u001b[0m\n\u001b[1;32m     42\u001b[0m         \u001b[0;32mreturn\u001b[0m \u001b[0mdriver_path\u001b[0m\u001b[0;34m\u001b[0m\u001b[0;34m\u001b[0m\u001b[0m\n",
            "\u001b[0;32m/usr/local/lib/python3.10/dist-packages/webdriver_manager/core/manager.py\u001b[0m in \u001b[0;36m_get_driver_binary_path\u001b[0;34m(self, driver)\u001b[0m\n\u001b[1;32m     38\u001b[0m \u001b[0;34m\u001b[0m\u001b[0m\n\u001b[1;32m     39\u001b[0m         \u001b[0mos_type\u001b[0m \u001b[0;34m=\u001b[0m \u001b[0mself\u001b[0m\u001b[0;34m.\u001b[0m\u001b[0mget_os_type\u001b[0m\u001b[0;34m(\u001b[0m\u001b[0;34m)\u001b[0m\u001b[0;34m\u001b[0m\u001b[0;34m\u001b[0m\u001b[0m\n\u001b[0;32m---> 40\u001b[0;31m         \u001b[0mfile\u001b[0m \u001b[0;34m=\u001b[0m \u001b[0mself\u001b[0m\u001b[0;34m.\u001b[0m\u001b[0m_download_manager\u001b[0m\u001b[0;34m.\u001b[0m\u001b[0mdownload_file\u001b[0m\u001b[0;34m(\u001b[0m\u001b[0mdriver\u001b[0m\u001b[0;34m.\u001b[0m\u001b[0mget_driver_download_url\u001b[0m\u001b[0;34m(\u001b[0m\u001b[0mos_type\u001b[0m\u001b[0;34m)\u001b[0m\u001b[0;34m)\u001b[0m\u001b[0;34m\u001b[0m\u001b[0;34m\u001b[0m\u001b[0m\n\u001b[0m\u001b[1;32m     41\u001b[0m         \u001b[0mbinary_path\u001b[0m \u001b[0;34m=\u001b[0m \u001b[0mself\u001b[0m\u001b[0;34m.\u001b[0m\u001b[0m_cache_manager\u001b[0m\u001b[0;34m.\u001b[0m\u001b[0msave_file_to_cache\u001b[0m\u001b[0;34m(\u001b[0m\u001b[0mdriver\u001b[0m\u001b[0;34m,\u001b[0m \u001b[0mfile\u001b[0m\u001b[0;34m)\u001b[0m\u001b[0;34m\u001b[0m\u001b[0;34m\u001b[0m\u001b[0m\n\u001b[1;32m     42\u001b[0m         \u001b[0;32mreturn\u001b[0m \u001b[0mbinary_path\u001b[0m\u001b[0;34m\u001b[0m\u001b[0;34m\u001b[0m\u001b[0m\n",
            "\u001b[0;32m/usr/local/lib/python3.10/dist-packages/webdriver_manager/drivers/chrome.py\u001b[0m in \u001b[0;36mget_driver_download_url\u001b[0;34m(self, os_type)\u001b[0m\n\u001b[1;32m     30\u001b[0m \u001b[0;34m\u001b[0m\u001b[0m\n\u001b[1;32m     31\u001b[0m     \u001b[0;32mdef\u001b[0m \u001b[0mget_driver_download_url\u001b[0m\u001b[0;34m(\u001b[0m\u001b[0mself\u001b[0m\u001b[0;34m,\u001b[0m \u001b[0mos_type\u001b[0m\u001b[0;34m)\u001b[0m\u001b[0;34m:\u001b[0m\u001b[0;34m\u001b[0m\u001b[0;34m\u001b[0m\u001b[0m\n\u001b[0;32m---> 32\u001b[0;31m         \u001b[0mdriver_version_to_download\u001b[0m \u001b[0;34m=\u001b[0m \u001b[0mself\u001b[0m\u001b[0;34m.\u001b[0m\u001b[0mget_driver_version_to_download\u001b[0m\u001b[0;34m(\u001b[0m\u001b[0;34m)\u001b[0m\u001b[0;34m\u001b[0m\u001b[0;34m\u001b[0m\u001b[0m\n\u001b[0m\u001b[1;32m     33\u001b[0m         \u001b[0;31m# For Mac ARM CPUs after version 106.0.5249.61 the format of OS type changed\u001b[0m\u001b[0;34m\u001b[0m\u001b[0;34m\u001b[0m\u001b[0m\n\u001b[1;32m     34\u001b[0m         \u001b[0;31m# to more unified \"mac_arm64\". For newer versions, it'll be \"mac_arm64\"\u001b[0m\u001b[0;34m\u001b[0m\u001b[0;34m\u001b[0m\u001b[0m\n",
            "\u001b[0;32m/usr/local/lib/python3.10/dist-packages/webdriver_manager/core/driver.py\u001b[0m in \u001b[0;36mget_driver_version_to_download\u001b[0;34m(self)\u001b[0m\n\u001b[1;32m     46\u001b[0m             \u001b[0;32mreturn\u001b[0m \u001b[0mself\u001b[0m\u001b[0;34m.\u001b[0m\u001b[0m_driver_version_to_download\u001b[0m\u001b[0;34m\u001b[0m\u001b[0;34m\u001b[0m\u001b[0m\n\u001b[1;32m     47\u001b[0m \u001b[0;34m\u001b[0m\u001b[0m\n\u001b[0;32m---> 48\u001b[0;31m         \u001b[0;32mreturn\u001b[0m \u001b[0mself\u001b[0m\u001b[0;34m.\u001b[0m\u001b[0mget_latest_release_version\u001b[0m\u001b[0;34m(\u001b[0m\u001b[0;34m)\u001b[0m\u001b[0;34m\u001b[0m\u001b[0;34m\u001b[0m\u001b[0m\n\u001b[0m\u001b[1;32m     49\u001b[0m \u001b[0;34m\u001b[0m\u001b[0m\n\u001b[1;32m     50\u001b[0m     \u001b[0;32mdef\u001b[0m \u001b[0mget_latest_release_version\u001b[0m\u001b[0;34m(\u001b[0m\u001b[0mself\u001b[0m\u001b[0;34m)\u001b[0m\u001b[0;34m:\u001b[0m\u001b[0;34m\u001b[0m\u001b[0;34m\u001b[0m\u001b[0m\n",
            "\u001b[0;32m/usr/local/lib/python3.10/dist-packages/webdriver_manager/drivers/chrome.py\u001b[0m in \u001b[0;36mget_latest_release_version\u001b[0;34m(self)\u001b[0m\n\u001b[1;32m     62\u001b[0m             \u001b[0;32mreturn\u001b[0m \u001b[0mdetermined_browser_version\u001b[0m\u001b[0;34m\u001b[0m\u001b[0;34m\u001b[0m\u001b[0m\n\u001b[1;32m     63\u001b[0m         \u001b[0;31m# Remove the build version (the last segment) from determined_browser_version for version < 113\u001b[0m\u001b[0;34m\u001b[0m\u001b[0;34m\u001b[0m\u001b[0m\n\u001b[0;32m---> 64\u001b[0;31m         \u001b[0mdetermined_browser_version\u001b[0m \u001b[0;34m=\u001b[0m \u001b[0;34m\".\"\u001b[0m\u001b[0;34m.\u001b[0m\u001b[0mjoin\u001b[0m\u001b[0;34m(\u001b[0m\u001b[0mdetermined_browser_version\u001b[0m\u001b[0;34m.\u001b[0m\u001b[0msplit\u001b[0m\u001b[0;34m(\u001b[0m\u001b[0;34m\".\"\u001b[0m\u001b[0;34m)\u001b[0m\u001b[0;34m[\u001b[0m\u001b[0;34m:\u001b[0m\u001b[0;36m3\u001b[0m\u001b[0;34m]\u001b[0m\u001b[0;34m)\u001b[0m\u001b[0;34m\u001b[0m\u001b[0;34m\u001b[0m\u001b[0m\n\u001b[0m\u001b[1;32m     65\u001b[0m         latest_release_url = (\n\u001b[1;32m     66\u001b[0m             \u001b[0mself\u001b[0m\u001b[0;34m.\u001b[0m\u001b[0m_latest_release_url\u001b[0m\u001b[0;34m\u001b[0m\u001b[0;34m\u001b[0m\u001b[0m\n",
            "\u001b[0;31mAttributeError\u001b[0m: 'NoneType' object has no attribute 'split'"
          ]
        }
      ]
    }
  ]
}